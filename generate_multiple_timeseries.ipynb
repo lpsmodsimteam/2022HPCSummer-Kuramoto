{
 "cells": [
  {
   "cell_type": "markdown",
   "id": "a788b53f-629a-4f5a-b7b3-54806243cb33",
   "metadata": {},
   "source": [
    "# generate fake data from synchronized and unsychronized oscillators"
   ]
  },
  {
   "cell_type": "markdown",
   "id": "cf749deb-9178-42f5-9958-82585ec3727b",
   "metadata": {},
   "source": [
    "The output of this notebook pretends to be log data from a non-existant SST simulation. \n",
    "\n",
    "The conventional model of Kuramoto is a set of metronomes all positioned on  a common platform. The output of a rectangular grid of zeros and ones is as though each metronome logged when it was left (zero) and when it was right (one) as a function of time. "
   ]
  },
  {
   "cell_type": "markdown",
   "id": "180061f3-8fb8-4a22-8c9d-e2573f4dc586",
   "metadata": {},
   "source": [
    "Assumptions:\n",
    "* a two-state oscillator \n",
    "* multiple oscillators all on the same clock boundary\n",
    "\n",
    "Caveat: some variables are hard-coded and should not be"
   ]
  },
  {
   "cell_type": "code",
   "execution_count": 1,
   "id": "63db4b2d-d1ff-4c7b-8a02-9c03658f85d1",
   "metadata": {},
   "outputs": [
    {
     "name": "stdout",
     "output_type": "stream",
     "text": [
      "3.10.4 (main, Jun 29 2022, 12:14:53) [GCC 11.2.0]\n"
     ]
    }
   ],
   "source": [
    "import random\n",
    "import sys\n",
    "print(sys.version)"
   ]
  },
  {
   "cell_type": "markdown",
   "id": "d1895e4d-39fc-4df1-b3a7-4f9343486a8f",
   "metadata": {},
   "source": [
    "technique for generating a long string in Python:"
   ]
  },
  {
   "cell_type": "code",
   "execution_count": 2,
   "id": "9ca67ec7-3ed3-445b-9d3e-80e00678a8b6",
   "metadata": {},
   "outputs": [
    {
     "data": {
      "text/plain": [
       "'000'"
      ]
     },
     "execution_count": 2,
     "metadata": {},
     "output_type": "execute_result"
    }
   ],
   "source": [
    "\"0\"*3"
   ]
  },
  {
   "cell_type": "markdown",
   "id": "df765b6b-25f9-4aa6-a1bc-dd9aec08e3aa",
   "metadata": {},
   "source": [
    "this can be used to create a periodic string"
   ]
  },
  {
   "cell_type": "code",
   "execution_count": 3,
   "id": "ccfd070b-f09f-4bc9-b926-ce0bdc6c7175",
   "metadata": {},
   "outputs": [
    {
     "data": {
      "text/plain": [
       "'0001100011000110001100011'"
      ]
     },
     "execution_count": 3,
     "metadata": {},
     "output_type": "execute_result"
    }
   ],
   "source": [
    "(\"0\"*3 + \"1\"*2)*5"
   ]
  },
  {
   "cell_type": "markdown",
   "id": "a875e8ce-c4a8-4a9d-8985-38f06b214f46",
   "metadata": {},
   "source": [
    "and finally multiple oscillators, with time progressing left-to-right and each line a separate oscillator"
   ]
  },
  {
   "cell_type": "code",
   "execution_count": 4,
   "id": "1c73959c-ab5e-42b0-8ea0-837f96d87e79",
   "metadata": {},
   "outputs": [
    {
     "name": "stdout",
     "output_type": "stream",
     "text": [
      "0001100011000110001100011\n",
      "0001100011000110001100011\n",
      "0001100011000110001100011\n",
      "0001100011000110001100011\n"
     ]
    }
   ],
   "source": [
    "number_of_oscillators = 4\n",
    "\n",
    "for index in range(number_of_oscillators):\n",
    "    print((\"0\"*3 + \"1\"*2)*5)"
   ]
  },
  {
   "cell_type": "code",
   "execution_count": 5,
   "id": "5b7df930-1b4e-4c05-9c01-d5dc0fe18e74",
   "metadata": {},
   "outputs": [],
   "source": [
    "def syncronized_oscillators(number_of_oscillators: int, number_of_cycles: int) -> str:\n",
    "    \"\"\"\n",
    "    \"\"\"\n",
    "    str_to_print = \"\"\n",
    "    \n",
    "    for index in range(number_of_oscillators):\n",
    "        str_to_print+=((\"0\"*3 + \"1\"*2)*number_of_cycles + \"\\n\")\n",
    "    return str_to_print"
   ]
  },
  {
   "cell_type": "markdown",
   "id": "c57b1cd1-2bb3-4fdd-a958-441f845612f9",
   "metadata": {},
   "source": [
    "write a file that will later be analyzed"
   ]
  },
  {
   "cell_type": "code",
   "execution_count": 6,
   "id": "3caaae88-726c-4fa1-b937-6058eb2cd274",
   "metadata": {},
   "outputs": [],
   "source": [
    "number_of_oscillators = 10\n",
    "number_of_cycles = 10\n",
    "\n",
    "with open(\"oscillators_that_are_synchronized.dat\",\"w\") as file_handle:\n",
    "    file_handle.write(syncronized_oscillators(number_of_oscillators, number_of_cycles))"
   ]
  },
  {
   "cell_type": "code",
   "execution_count": 7,
   "id": "817bb340-51f0-4ab6-bd86-38273817b54e",
   "metadata": {},
   "outputs": [],
   "source": [
    "def snippet():\n",
    "    \"\"\"\n",
    "    \"\"\"\n",
    "    return \"0\"*random.randint(1,4) + \"1\"*random.randint(1,4)"
   ]
  },
  {
   "cell_type": "code",
   "execution_count": 8,
   "id": "8855dda9-4b6f-470b-bd79-3282ba5895d4",
   "metadata": {},
   "outputs": [
    {
     "data": {
      "text/plain": [
       "'00001'"
      ]
     },
     "execution_count": 8,
     "metadata": {},
     "output_type": "execute_result"
    }
   ],
   "source": [
    "snippet()"
   ]
  },
  {
   "cell_type": "code",
   "execution_count": 9,
   "id": "bfad7667-1f79-469d-8cca-f4af473a551a",
   "metadata": {},
   "outputs": [],
   "source": [
    "def unsyncronized_oscillators(number_of_oscillators: int, number_of_cycles: int) -> str:\n",
    "    \"\"\"\n",
    "    \"\"\"\n",
    "    str_to_print = \"\"\n",
    "    for index in range(number_of_oscillators):\n",
    "        this_str = \"\"\n",
    "        while len(this_str) <= number_of_cycles*5:\n",
    "            this_str+=snippet()\n",
    "        str_to_print+=(this_str[0:number_of_cycles*5] + \"\\n\")\n",
    "    return str_to_print"
   ]
  },
  {
   "cell_type": "code",
   "execution_count": 10,
   "id": "1a5ae33e-83e5-48ae-bd60-23bfab2addda",
   "metadata": {},
   "outputs": [],
   "source": [
    "with open(\"oscillators_that_are_not_synchronized.dat\",\"w\") as file_handle:\n",
    "    file_handle.write(unsyncronized_oscillators(number_of_oscillators, number_of_cycles))"
   ]
  },
  {
   "cell_type": "code",
   "execution_count": 11,
   "id": "aa3c02b5-d4ee-43f8-b446-66144138a9be",
   "metadata": {},
   "outputs": [],
   "source": [
    "with open(\"oscillators_mixed.dat\",\"w\") as file_handle:\n",
    "    file_handle.write(syncronized_oscillators(2, number_of_cycles))\n",
    "    file_handle.write(unsyncronized_oscillators(3, number_of_cycles))\n",
    "    file_handle.write(syncronized_oscillators(3, number_of_cycles))\n",
    "    file_handle.write(unsyncronized_oscillators(2, number_of_cycles))"
   ]
  },
  {
   "cell_type": "code",
   "execution_count": null,
   "id": "d9c827c5",
   "metadata": {},
   "outputs": [],
   "source": []
  }
 ],
 "metadata": {
  "kernelspec": {
   "display_name": "Python 3 (ipykernel)",
   "language": "python",
   "name": "python3"
  },
  "language_info": {
   "codemirror_mode": {
    "name": "ipython",
    "version": 3
   },
   "file_extension": ".py",
   "mimetype": "text/x-python",
   "name": "python",
   "nbconvert_exporter": "python",
   "pygments_lexer": "ipython3",
   "version": "3.10.4"
  }
 },
 "nbformat": 4,
 "nbformat_minor": 5
}
